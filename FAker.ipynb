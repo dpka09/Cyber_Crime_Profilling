{
 "cells": [
  {
   "cell_type": "code",
   "execution_count": 1,
   "metadata": {},
   "outputs": [
    {
     "name": "stdout",
     "output_type": "stream",
     "text": [
      "Collecting Faker\n",
      "  Downloading Faker-4.17.0-py3-none-any.whl (1.1 MB)\n",
      "Collecting text-unidecode==1.3\n",
      "  Downloading text_unidecode-1.3-py2.py3-none-any.whl (78 kB)\n",
      "Requirement already satisfied: python-dateutil>=2.4 in c:\\users\\dpka\\anaconda3\\lib\\site-packages (from Faker) (2.8.1)\n",
      "Requirement already satisfied: six>=1.5 in c:\\users\\dpka\\anaconda3\\lib\\site-packages (from python-dateutil>=2.4->Faker) (1.14.0)\n",
      "Installing collected packages: text-unidecode, Faker\n",
      "Successfully installed Faker-4.17.0 text-unidecode-1.3\n"
     ]
    }
   ],
   "source": [
    "!pip install Faker"
   ]
  },
  {
   "cell_type": "markdown",
   "metadata": {},
   "source": [
    "Importing Libraries"
   ]
  },
  {
   "cell_type": "code",
   "execution_count": 332,
   "metadata": {},
   "outputs": [],
   "source": [
    "import numpy as np\n",
    "import pandas as pd\n",
    "import random\n",
    "import matplotlib.pyplot as plt"
   ]
  },
  {
   "cell_type": "code",
   "execution_count": 333,
   "metadata": {},
   "outputs": [],
   "source": [
    "import seaborn as sns"
   ]
  },
  {
   "cell_type": "code",
   "execution_count": 334,
   "metadata": {},
   "outputs": [],
   "source": [
    "from faker import Faker"
   ]
  },
  {
   "cell_type": "code",
   "execution_count": null,
   "metadata": {},
   "outputs": [],
   "source": []
  },
  {
   "cell_type": "code",
   "execution_count": 369,
   "metadata": {},
   "outputs": [],
   "source": [
    "fake=Faker(\"ne_NP\")"
   ]
  },
  {
   "cell_type": "code",
   "execution_count": 370,
   "metadata": {},
   "outputs": [],
   "source": [
    "name=fake.name()\n",
    "address= fake.address()\n",
    "phone= fake.phone_number()\n",
    "birth=fake.date_of_birth(minimum_age=50)"
   ]
  },
  {
   "cell_type": "code",
   "execution_count": 371,
   "metadata": {},
   "outputs": [
    {
     "name": "stdout",
     "output_type": "stream",
     "text": [
      "Her name is सरस्वती पन्त. She lives in शाह निवास घर 801 \n",
      "बुटवल\n",
      "काभ्रेपलाञ्चोक 89391. Her phone no. is +977 4131553856. Her date of birth is 1935-01-04\n"
     ]
    }
   ],
   "source": [
    "#print('Her name is {}. She lives in {}. Her phone no. is {}. Her date of birth is {}'. format(name, address, phone, birth))"
   ]
  },
  {
   "cell_type": "code",
   "execution_count": 372,
   "metadata": {},
   "outputs": [
    {
     "data": {
      "text/plain": [
       "'Her name is सरस्वती पन्त'"
      ]
     },
     "execution_count": 372,
     "metadata": {},
     "output_type": "execute_result"
    }
   ],
   "source": [
    "#'Her name is {}'.format(name)"
   ]
  },
  {
   "cell_type": "markdown",
   "metadata": {},
   "source": [
    "Getting fake name, address and age"
   ]
  },
  {
   "cell_type": "code",
   "execution_count": 373,
   "metadata": {},
   "outputs": [],
   "source": [
    "\n",
    "    name=[]\n",
    "    address=[]\n",
    "    age=[]\n",
    "\n",
    "    count=2000\n",
    "    \n",
    "    for i in range(count):\n",
    "        name.append(fake.name())\n",
    "        address.append(fake.address())\n",
    "        age.append(random.randint(12,60))\n",
    "    "
   ]
  },
  {
   "cell_type": "code",
   "execution_count": 374,
   "metadata": {},
   "outputs": [],
   "source": [
    "#Technical_Knowhow=[\"Sharp\",\"Focussed\",\"Well-trained\",\"Strategic planners\",\"Bully\",\"Resourceful\",\"Goal oriented\",\"Well-networked\",\"Well-organized\",\"Creative\",\"Smart\",\"Skillful\",\"Oppurtunists\"]\n",
    "#Personal_Traits=[\"Impatient\",\"Determined\",\"Secretive\",\"Aggresive\",\"Strong-willed\",\"passionate\",\"Control freak\",\"Psychologically\",\"Deviant\",\"Psychiatric conditions\",\"Identity crisis\",\"Chaotic state of mind\",\"Inhuman Psyche\",\"Vengeful\",\"Coercive\",\"Coward\",\"Selfish\",\"Immoral/Unethical\",\"Risk-taker\",\"Loner\",\"Incited\",\"Gulible\",\"Conviction in Violence\",\"Emotional\"]\n",
    "#Social_Characteristics=[\"Anti-establishment\",\"Inferiorty Complex\",\"Low self-worth\",\"Marginalised\",\"Radical\",\"Mass-destruction\",\"Misguided\",\"Brain-washed\",\"Anti-social\",\"Unlawful\",\"Rebellious\",\"Reinforcement available\",\"Intolerance to diversity of opinion\",\"Need to outsmart others\",\"Rationalization\",\"Social dissatisfaction\",\"Broken homes/families\",\"Socially inept\",\"Insufficient social support\"]\n",
    "#Motivating_Factors=[\"Monetary Gain\",\"Greed\",\"Political beliefs\",\"Emotions\",\"Disregard for law\",\"Intolerance\",\"Thrill-seeking\",\"Risk tolerance\",\"Need to control others\",\"Concealed existence\",\"Political support\",\"Religious Fundamentalism\",\"Experimentation\",\"No fear of punishment\",\"Curiosity\",\"Revenge\",\"Anger\",\"Lust\",\"Plain Boredom\",\"Enhancing self-worth\"]\n"
   ]
  },
  {
   "cell_type": "markdown",
   "metadata": {},
   "source": [
    "chosing random parameters/ values for different features"
   ]
  },
  {
   "cell_type": "code",
   "execution_count": 375,
   "metadata": {},
   "outputs": [],
   "source": [
    "\n",
    "    \n",
    "    Technical_Knowhow=[]\n",
    "    Personal_Traits=[]\n",
    "    Social_Characteristics=[]\n",
    "    Motivating_Factors=[]\n",
    "    \n",
    "    for j in range(0,2000):\n",
    "        Technical_Knowhow.append(fake.random_element(elements=(\"Sharp\",\"Focussed\",\"Well-trained\",\"Strategic planners\",\"Bully\",\"Resourceful\",\"Goal oriented\",\"Well-networked\",\"Well-organized\",\"Creative\",\"Smart\",\"Skillful\",\"Oppurtunists\")))\n",
    "        Personal_Traits.append(fake.random_element(elements=(\"Impatient\",\"Determined\",\"Secretive\",\"Aggresive\",\"Strong-willed\",\"passionate\",\"Control freak\",\"Psychologically\",\"Deviant\",\"Psychiatric conditions\",\"Identity crisis\",\"Chaotic state of mind\",\"Inhuman Psyche\",\"Vengeful\",\"Coercive\",\"Coward\",\"Selfish\",\"Immoral/Unethical\",\"Risk-taker\",\"Loner\",\"Incited\",\"Gulible\",\"Conviction in Violence\",\"Emotional\")))\n",
    "        Social_Characteristics.append(fake.random_element(elements=(\"Anti-establishment\",\"Inferiorty Complex\",\"Low self-worth\",\"Marginalised\",\"Radical\",\"Mass-destruction\",\"Misguided\",\"Brain-washed\",\"Anti-social\",\"Unlawful\",\"Rebellious\",\"Reinforcement available\",\"Intolerance to diversity of opinion\",\"Need to outsmart others\",\"Rationalization\",\"Social dissatisfaction\",\"Broken homes/families\",\"Socially inept\",\"Insufficient social support\")))\n",
    "        Motivating_Factors.append(fake.random_element(elements=(\"Monetary Gain\",\"Greed\",\"Political beliefs\",\"Emotions\",\"Disregard for law\",\"Intolerance\",\"Thrill-seeking\",\"Risk tolerance\",\"Need to control others\",\"Concealed existence\",\"Political support\",\"Religious Fundamentalism\",\"Experimentation\",\"No fear of punishment\",\"Curiosity\",\"Revenge\",\"Anger\",\"Lust\",\"Plain Boredom\",\"Enhancing self-worth\")))\n",
    "        \n",
    "       "
   ]
  },
  {
   "cell_type": "markdown",
   "metadata": {},
   "source": [
    "Creating a dataframe named data"
   ]
  },
  {
   "cell_type": "code",
   "execution_count": 376,
   "metadata": {},
   "outputs": [],
   "source": [
    "#dictionary\n",
    "data=pd.DataFrame(list(zip(name, address, age, Technical_Knowhow, Personal_Traits,  Social_Characteristics, Motivating_Factors)))\n",
    "\n",
    "data.columns=[\"Name\",\"Address\",\"Age\",\"Technical_Knowhow\",\"Personal_Traits\",\"Social_Characteristics\",\"Motivating_Factors\"]"
   ]
  },
  {
   "cell_type": "code",
   "execution_count": 377,
   "metadata": {},
   "outputs": [
    {
     "data": {
      "text/html": [
       "<div>\n",
       "<style scoped>\n",
       "    .dataframe tbody tr th:only-of-type {\n",
       "        vertical-align: middle;\n",
       "    }\n",
       "\n",
       "    .dataframe tbody tr th {\n",
       "        vertical-align: top;\n",
       "    }\n",
       "\n",
       "    .dataframe thead th {\n",
       "        text-align: right;\n",
       "    }\n",
       "</style>\n",
       "<table border=\"1\" class=\"dataframe\">\n",
       "  <thead>\n",
       "    <tr style=\"text-align: right;\">\n",
       "      <th></th>\n",
       "      <th>Name</th>\n",
       "      <th>Address</th>\n",
       "      <th>Age</th>\n",
       "      <th>Technical_Knowhow</th>\n",
       "      <th>Personal_Traits</th>\n",
       "      <th>Social_Characteristics</th>\n",
       "      <th>Motivating_Factors</th>\n",
       "    </tr>\n",
       "  </thead>\n",
       "  <tbody>\n",
       "    <tr>\n",
       "      <th>0</th>\n",
       "      <td>कपिल प्याकुरेल</td>\n",
       "      <td>सिंह हाईट घर 036 \\nदैलेख\\nसोलुखुम्बु 95144</td>\n",
       "      <td>31</td>\n",
       "      <td>Smart</td>\n",
       "      <td>Determined</td>\n",
       "      <td>Intolerance to diversity of opinion</td>\n",
       "      <td>Thrill-seeking</td>\n",
       "    </tr>\n",
       "    <tr>\n",
       "      <th>1</th>\n",
       "      <td>रोजिना चालिसे</td>\n",
       "      <td>बेगानी आश्रम घर 3 \\nअर्घाखाँची\\nउदयपुर 09088</td>\n",
       "      <td>60</td>\n",
       "      <td>Smart</td>\n",
       "      <td>Coward</td>\n",
       "      <td>Socially inept</td>\n",
       "      <td>Need to control others</td>\n",
       "    </tr>\n",
       "    <tr>\n",
       "      <th>2</th>\n",
       "      <td>रुपा राजकर्णिकार</td>\n",
       "      <td>पाण्डे पथ घर 34 \\nसिद्धिचरण\\nडोल्पा 89048</td>\n",
       "      <td>45</td>\n",
       "      <td>Goal oriented</td>\n",
       "      <td>Emotional</td>\n",
       "      <td>Anti-establishment</td>\n",
       "      <td>Intolerance</td>\n",
       "    </tr>\n",
       "    <tr>\n",
       "      <th>3</th>\n",
       "      <td>शिखा तुलाधर</td>\n",
       "      <td>शर्मा बाटो घर 9 \\nबर्दिया\\nरामेछाप 53885</td>\n",
       "      <td>57</td>\n",
       "      <td>Bully</td>\n",
       "      <td>Vengeful</td>\n",
       "      <td>Low self-worth</td>\n",
       "      <td>Political support</td>\n",
       "    </tr>\n",
       "    <tr>\n",
       "      <th>4</th>\n",
       "      <td>राजु मित्तल</td>\n",
       "      <td>ढुङ्गेल बाटो घर 60 \\nखोटाङ\\nकाठमाडौं 89036</td>\n",
       "      <td>59</td>\n",
       "      <td>Well-trained</td>\n",
       "      <td>passionate</td>\n",
       "      <td>Intolerance to diversity of opinion</td>\n",
       "      <td>Greed</td>\n",
       "    </tr>\n",
       "  </tbody>\n",
       "</table>\n",
       "</div>"
      ],
      "text/plain": [
       "               Name                                       Address  Age  \\\n",
       "0    कपिल प्याकुरेल    सिंह हाईट घर 036 \\nदैलेख\\nसोलुखुम्बु 95144   31   \n",
       "1     रोजिना चालिसे  बेगानी आश्रम घर 3 \\nअर्घाखाँची\\nउदयपुर 09088   60   \n",
       "2  रुपा राजकर्णिकार     पाण्डे पथ घर 34 \\nसिद्धिचरण\\nडोल्पा 89048   45   \n",
       "3       शिखा तुलाधर      शर्मा बाटो घर 9 \\nबर्दिया\\nरामेछाप 53885   57   \n",
       "4       राजु मित्तल    ढुङ्गेल बाटो घर 60 \\nखोटाङ\\nकाठमाडौं 89036   59   \n",
       "\n",
       "  Technical_Knowhow Personal_Traits               Social_Characteristics  \\\n",
       "0             Smart      Determined  Intolerance to diversity of opinion   \n",
       "1             Smart          Coward                       Socially inept   \n",
       "2     Goal oriented       Emotional                   Anti-establishment   \n",
       "3             Bully        Vengeful                       Low self-worth   \n",
       "4      Well-trained      passionate  Intolerance to diversity of opinion   \n",
       "\n",
       "       Motivating_Factors  \n",
       "0          Thrill-seeking  \n",
       "1  Need to control others  \n",
       "2             Intolerance  \n",
       "3       Political support  \n",
       "4                   Greed  "
      ]
     },
     "execution_count": 377,
     "metadata": {},
     "output_type": "execute_result"
    }
   ],
   "source": [
    "data.head()"
   ]
  },
  {
   "cell_type": "markdown",
   "metadata": {},
   "source": [
    "# Preprocessing"
   ]
  },
  {
   "cell_type": "code",
   "execution_count": 378,
   "metadata": {},
   "outputs": [],
   "source": [
    "from sklearn.preprocessing import StandardScaler, LabelEncoder "
   ]
  },
  {
   "cell_type": "code",
   "execution_count": 379,
   "metadata": {},
   "outputs": [],
   "source": [
    "encode=LabelEncoder()"
   ]
  },
  {
   "cell_type": "code",
   "execution_count": 380,
   "metadata": {},
   "outputs": [
    {
     "data": {
      "text/plain": [
       "Index(['Name', 'Address', 'Age', 'Technical_Knowhow', 'Personal_Traits',\n",
       "       'Social_Characteristics', 'Motivating_Factors'],\n",
       "      dtype='object')"
      ]
     },
     "execution_count": 380,
     "metadata": {},
     "output_type": "execute_result"
    }
   ],
   "source": [
    "data.columns"
   ]
  },
  {
   "cell_type": "code",
   "execution_count": 381,
   "metadata": {},
   "outputs": [],
   "source": [
    "col=(\"Technical_Knowhow\",\"Personal_Traits\",\"Social_Characteristics\",\"Motivating_Factors\")"
   ]
  },
  {
   "cell_type": "code",
   "execution_count": 382,
   "metadata": {},
   "outputs": [],
   "source": [
    "for i in range(0,4):\n",
    "    data[col[i]]= encode.fit_transform(data[col[i]])"
   ]
  },
  {
   "cell_type": "code",
   "execution_count": 383,
   "metadata": {},
   "outputs": [],
   "source": [
    "X=data.drop(['Name','Address','Age'], axis=1)"
   ]
  },
  {
   "cell_type": "code",
   "execution_count": 420,
   "metadata": {},
   "outputs": [
    {
     "data": {
      "text/html": [
       "<div>\n",
       "<style scoped>\n",
       "    .dataframe tbody tr th:only-of-type {\n",
       "        vertical-align: middle;\n",
       "    }\n",
       "\n",
       "    .dataframe tbody tr th {\n",
       "        vertical-align: top;\n",
       "    }\n",
       "\n",
       "    .dataframe thead th {\n",
       "        text-align: right;\n",
       "    }\n",
       "</style>\n",
       "<table border=\"1\" class=\"dataframe\">\n",
       "  <thead>\n",
       "    <tr style=\"text-align: right;\">\n",
       "      <th></th>\n",
       "      <th>Technical_Knowhow</th>\n",
       "      <th>Personal_Traits</th>\n",
       "      <th>Social_Characteristics</th>\n",
       "      <th>Motivating_Factors</th>\n",
       "    </tr>\n",
       "  </thead>\n",
       "  <tbody>\n",
       "    <tr>\n",
       "      <th>0</th>\n",
       "      <td>8</td>\n",
       "      <td>6</td>\n",
       "      <td>6</td>\n",
       "      <td>19</td>\n",
       "    </tr>\n",
       "    <tr>\n",
       "      <th>1</th>\n",
       "      <td>8</td>\n",
       "      <td>5</td>\n",
       "      <td>17</td>\n",
       "      <td>11</td>\n",
       "    </tr>\n",
       "    <tr>\n",
       "      <th>2</th>\n",
       "      <td>3</td>\n",
       "      <td>8</td>\n",
       "      <td>0</td>\n",
       "      <td>8</td>\n",
       "    </tr>\n",
       "    <tr>\n",
       "      <th>3</th>\n",
       "      <td>0</td>\n",
       "      <td>22</td>\n",
       "      <td>7</td>\n",
       "      <td>15</td>\n",
       "    </tr>\n",
       "    <tr>\n",
       "      <th>4</th>\n",
       "      <td>12</td>\n",
       "      <td>23</td>\n",
       "      <td>6</td>\n",
       "      <td>7</td>\n",
       "    </tr>\n",
       "    <tr>\n",
       "      <th>...</th>\n",
       "      <td>...</td>\n",
       "      <td>...</td>\n",
       "      <td>...</td>\n",
       "      <td>...</td>\n",
       "    </tr>\n",
       "    <tr>\n",
       "      <th>1995</th>\n",
       "      <td>2</td>\n",
       "      <td>4</td>\n",
       "      <td>14</td>\n",
       "      <td>4</td>\n",
       "    </tr>\n",
       "    <tr>\n",
       "      <th>1996</th>\n",
       "      <td>2</td>\n",
       "      <td>9</td>\n",
       "      <td>2</td>\n",
       "      <td>7</td>\n",
       "    </tr>\n",
       "    <tr>\n",
       "      <th>1997</th>\n",
       "      <td>1</td>\n",
       "      <td>0</td>\n",
       "      <td>6</td>\n",
       "      <td>15</td>\n",
       "    </tr>\n",
       "    <tr>\n",
       "      <th>1998</th>\n",
       "      <td>6</td>\n",
       "      <td>3</td>\n",
       "      <td>0</td>\n",
       "      <td>9</td>\n",
       "    </tr>\n",
       "    <tr>\n",
       "      <th>1999</th>\n",
       "      <td>4</td>\n",
       "      <td>15</td>\n",
       "      <td>11</td>\n",
       "      <td>13</td>\n",
       "    </tr>\n",
       "  </tbody>\n",
       "</table>\n",
       "<p>2000 rows × 4 columns</p>\n",
       "</div>"
      ],
      "text/plain": [
       "      Technical_Knowhow  Personal_Traits  Social_Characteristics  \\\n",
       "0                     8                6                       6   \n",
       "1                     8                5                      17   \n",
       "2                     3                8                       0   \n",
       "3                     0               22                       7   \n",
       "4                    12               23                       6   \n",
       "...                 ...              ...                     ...   \n",
       "1995                  2                4                      14   \n",
       "1996                  2                9                       2   \n",
       "1997                  1                0                       6   \n",
       "1998                  6                3                       0   \n",
       "1999                  4               15                      11   \n",
       "\n",
       "      Motivating_Factors  \n",
       "0                     19  \n",
       "1                     11  \n",
       "2                      8  \n",
       "3                     15  \n",
       "4                      7  \n",
       "...                  ...  \n",
       "1995                   4  \n",
       "1996                   7  \n",
       "1997                  15  \n",
       "1998                   9  \n",
       "1999                  13  \n",
       "\n",
       "[2000 rows x 4 columns]"
      ]
     },
     "execution_count": 420,
     "metadata": {},
     "output_type": "execute_result"
    }
   ],
   "source": [
    "X"
   ]
  },
  {
   "cell_type": "code",
   "execution_count": 385,
   "metadata": {},
   "outputs": [
    {
     "data": {
      "text/html": [
       "<div>\n",
       "<style scoped>\n",
       "    .dataframe tbody tr th:only-of-type {\n",
       "        vertical-align: middle;\n",
       "    }\n",
       "\n",
       "    .dataframe tbody tr th {\n",
       "        vertical-align: top;\n",
       "    }\n",
       "\n",
       "    .dataframe thead th {\n",
       "        text-align: right;\n",
       "    }\n",
       "</style>\n",
       "<table border=\"1\" class=\"dataframe\">\n",
       "  <thead>\n",
       "    <tr style=\"text-align: right;\">\n",
       "      <th></th>\n",
       "      <th>Name</th>\n",
       "      <th>Address</th>\n",
       "      <th>Age</th>\n",
       "      <th>Technical_Knowhow</th>\n",
       "      <th>Personal_Traits</th>\n",
       "      <th>Social_Characteristics</th>\n",
       "      <th>Motivating_Factors</th>\n",
       "    </tr>\n",
       "  </thead>\n",
       "  <tbody>\n",
       "    <tr>\n",
       "      <th>0</th>\n",
       "      <td>कपिल प्याकुरेल</td>\n",
       "      <td>सिंह हाईट घर 036 \\nदैलेख\\nसोलुखुम्बु 95144</td>\n",
       "      <td>31</td>\n",
       "      <td>8</td>\n",
       "      <td>6</td>\n",
       "      <td>6</td>\n",
       "      <td>19</td>\n",
       "    </tr>\n",
       "    <tr>\n",
       "      <th>1</th>\n",
       "      <td>रोजिना चालिसे</td>\n",
       "      <td>बेगानी आश्रम घर 3 \\nअर्घाखाँची\\nउदयपुर 09088</td>\n",
       "      <td>60</td>\n",
       "      <td>8</td>\n",
       "      <td>5</td>\n",
       "      <td>17</td>\n",
       "      <td>11</td>\n",
       "    </tr>\n",
       "    <tr>\n",
       "      <th>2</th>\n",
       "      <td>रुपा राजकर्णिकार</td>\n",
       "      <td>पाण्डे पथ घर 34 \\nसिद्धिचरण\\nडोल्पा 89048</td>\n",
       "      <td>45</td>\n",
       "      <td>3</td>\n",
       "      <td>8</td>\n",
       "      <td>0</td>\n",
       "      <td>8</td>\n",
       "    </tr>\n",
       "    <tr>\n",
       "      <th>3</th>\n",
       "      <td>शिखा तुलाधर</td>\n",
       "      <td>शर्मा बाटो घर 9 \\nबर्दिया\\nरामेछाप 53885</td>\n",
       "      <td>57</td>\n",
       "      <td>0</td>\n",
       "      <td>22</td>\n",
       "      <td>7</td>\n",
       "      <td>15</td>\n",
       "    </tr>\n",
       "    <tr>\n",
       "      <th>4</th>\n",
       "      <td>राजु मित्तल</td>\n",
       "      <td>ढुङ्गेल बाटो घर 60 \\nखोटाङ\\nकाठमाडौं 89036</td>\n",
       "      <td>59</td>\n",
       "      <td>12</td>\n",
       "      <td>23</td>\n",
       "      <td>6</td>\n",
       "      <td>7</td>\n",
       "    </tr>\n",
       "  </tbody>\n",
       "</table>\n",
       "</div>"
      ],
      "text/plain": [
       "               Name                                       Address  Age  \\\n",
       "0    कपिल प्याकुरेल    सिंह हाईट घर 036 \\nदैलेख\\nसोलुखुम्बु 95144   31   \n",
       "1     रोजिना चालिसे  बेगानी आश्रम घर 3 \\nअर्घाखाँची\\nउदयपुर 09088   60   \n",
       "2  रुपा राजकर्णिकार     पाण्डे पथ घर 34 \\nसिद्धिचरण\\nडोल्पा 89048   45   \n",
       "3       शिखा तुलाधर      शर्मा बाटो घर 9 \\nबर्दिया\\nरामेछाप 53885   57   \n",
       "4       राजु मित्तल    ढुङ्गेल बाटो घर 60 \\nखोटाङ\\nकाठमाडौं 89036   59   \n",
       "\n",
       "   Technical_Knowhow  Personal_Traits  Social_Characteristics  \\\n",
       "0                  8                6                       6   \n",
       "1                  8                5                      17   \n",
       "2                  3                8                       0   \n",
       "3                  0               22                       7   \n",
       "4                 12               23                       6   \n",
       "\n",
       "   Motivating_Factors  \n",
       "0                  19  \n",
       "1                  11  \n",
       "2                   8  \n",
       "3                  15  \n",
       "4                   7  "
      ]
     },
     "execution_count": 385,
     "metadata": {},
     "output_type": "execute_result"
    }
   ],
   "source": [
    "data.head()"
   ]
  },
  {
   "cell_type": "code",
   "execution_count": 532,
   "metadata": {},
   "outputs": [],
   "source": [
    "scaler=StandardScaler()\n",
    "data=scaler.fit_transform(X)"
   ]
  },
  {
   "cell_type": "markdown",
   "metadata": {},
   "source": [
    "Using Kmeans Algorithm for Clustering"
   ]
  },
  {
   "cell_type": "code",
   "execution_count": 533,
   "metadata": {},
   "outputs": [],
   "source": [
    "from sklearn.cluster import KMeans"
   ]
  },
  {
   "cell_type": "code",
   "execution_count": 534,
   "metadata": {},
   "outputs": [
    {
     "data": {
      "text/plain": [
       "array([1, 1, 1, ..., 1, 1, 0])"
      ]
     },
     "execution_count": 534,
     "metadata": {},
     "output_type": "execute_result"
    }
   ],
   "source": [
    "kmeans.labels_"
   ]
  },
  {
   "cell_type": "code",
   "execution_count": 535,
   "metadata": {},
   "outputs": [],
   "source": [
    "sse=[]\n",
    "\n",
    "for i in range(1,11):\n",
    "    kmeans=KMeans(n_clusters=i)\n",
    "    kmeans.fit(X)\n",
    "    sse.append(kmeans.inertia_)"
   ]
  },
  {
   "cell_type": "code",
   "execution_count": 536,
   "metadata": {},
   "outputs": [
    {
     "data": {
      "text/plain": [
       "[243869.68100000004,\n",
       " 172188.18222511842,\n",
       " 143804.48574476145,\n",
       " 123309.3486010296,\n",
       " 108131.9328038334,\n",
       " 96136.56717964076,\n",
       " 88544.09164742859,\n",
       " 81436.97718341544,\n",
       " 77304.38942035731,\n",
       " 73651.16329522897]"
      ]
     },
     "execution_count": 536,
     "metadata": {},
     "output_type": "execute_result"
    }
   ],
   "source": [
    "sse"
   ]
  },
  {
   "cell_type": "code",
   "execution_count": 537,
   "metadata": {},
   "outputs": [
    {
     "data": {
      "image/png": "[encoded data removed]",
      "text/plain": [
       "<Figure size 432x288 with 1 Axes>"
      ]
     },
     "metadata": {
      "needs_background": "light"
     },
     "output_type": "display_data"
    }
   ],
   "source": [
    "plt.plot(range(1,11), sse)\n",
    "plt.title(\"elbow plot for k\")\n",
    "plt.xlabel(\"k\")\n",
    "plt.ylabel(\"sse\")\n",
    "plt.show()"
   ]
  },
  {
   "cell_type": "markdown",
   "metadata": {},
   "source": [
    "It seems from the Elbow plot that the no. of cluster seems to be 2. "
   ]
  },
  {
   "cell_type": "code",
   "execution_count": 538,
   "metadata": {},
   "outputs": [
    {
     "data": {
      "text/plain": [
       "KMeans(n_clusters=2)"
      ]
     },
     "execution_count": 538,
     "metadata": {},
     "output_type": "execute_result"
    }
   ],
   "source": [
    "kmeans=KMeans(n_clusters=2)\n",
    "kmeans.fit(X)"
   ]
  },
  {
   "cell_type": "code",
   "execution_count": 539,
   "metadata": {},
   "outputs": [],
   "source": [
    "labels=kmeans.labels_"
   ]
  },
  {
   "cell_type": "code",
   "execution_count": 540,
   "metadata": {},
   "outputs": [],
   "source": [
    "df=pd.DataFrame(X,columns=[\"Technical_Knowhow\",\"Personal_Traits\",\"Social_Characteristics\",\"Motivating_Factors\"])"
   ]
  },
  {
   "cell_type": "code",
   "execution_count": 541,
   "metadata": {},
   "outputs": [
    {
     "data": {
      "text/html": [
       "<div>\n",
       "<style scoped>\n",
       "    .dataframe tbody tr th:only-of-type {\n",
       "        vertical-align: middle;\n",
       "    }\n",
       "\n",
       "    .dataframe tbody tr th {\n",
       "        vertical-align: top;\n",
       "    }\n",
       "\n",
       "    .dataframe thead th {\n",
       "        text-align: right;\n",
       "    }\n",
       "</style>\n",
       "<table border=\"1\" class=\"dataframe\">\n",
       "  <thead>\n",
       "    <tr style=\"text-align: right;\">\n",
       "      <th></th>\n",
       "      <th>Technical_Knowhow</th>\n",
       "      <th>Personal_Traits</th>\n",
       "      <th>Social_Characteristics</th>\n",
       "      <th>Motivating_Factors</th>\n",
       "    </tr>\n",
       "  </thead>\n",
       "  <tbody>\n",
       "    <tr>\n",
       "      <th>0</th>\n",
       "      <td>8</td>\n",
       "      <td>6</td>\n",
       "      <td>6</td>\n",
       "      <td>19</td>\n",
       "    </tr>\n",
       "    <tr>\n",
       "      <th>1</th>\n",
       "      <td>8</td>\n",
       "      <td>5</td>\n",
       "      <td>17</td>\n",
       "      <td>11</td>\n",
       "    </tr>\n",
       "    <tr>\n",
       "      <th>2</th>\n",
       "      <td>3</td>\n",
       "      <td>8</td>\n",
       "      <td>0</td>\n",
       "      <td>8</td>\n",
       "    </tr>\n",
       "    <tr>\n",
       "      <th>3</th>\n",
       "      <td>0</td>\n",
       "      <td>22</td>\n",
       "      <td>7</td>\n",
       "      <td>15</td>\n",
       "    </tr>\n",
       "    <tr>\n",
       "      <th>4</th>\n",
       "      <td>12</td>\n",
       "      <td>23</td>\n",
       "      <td>6</td>\n",
       "      <td>7</td>\n",
       "    </tr>\n",
       "  </tbody>\n",
       "</table>\n",
       "</div>"
      ],
      "text/plain": [
       "   Technical_Knowhow  Personal_Traits  Social_Characteristics  \\\n",
       "0                  8                6                       6   \n",
       "1                  8                5                      17   \n",
       "2                  3                8                       0   \n",
       "3                  0               22                       7   \n",
       "4                 12               23                       6   \n",
       "\n",
       "   Motivating_Factors  \n",
       "0                  19  \n",
       "1                  11  \n",
       "2                   8  \n",
       "3                  15  \n",
       "4                   7  "
      ]
     },
     "execution_count": 541,
     "metadata": {},
     "output_type": "execute_result"
    }
   ],
   "source": [
    "df.head()"
   ]
  },
  {
   "cell_type": "code",
   "execution_count": 542,
   "metadata": {},
   "outputs": [],
   "source": [
    "df[\"cluster\"]=labels"
   ]
  },
  {
   "cell_type": "code",
   "execution_count": 543,
   "metadata": {},
   "outputs": [
    {
     "data": {
      "text/html": [
       "<div>\n",
       "<style scoped>\n",
       "    .dataframe tbody tr th:only-of-type {\n",
       "        vertical-align: middle;\n",
       "    }\n",
       "\n",
       "    .dataframe tbody tr th {\n",
       "        vertical-align: top;\n",
       "    }\n",
       "\n",
       "    .dataframe thead th {\n",
       "        text-align: right;\n",
       "    }\n",
       "</style>\n",
       "<table border=\"1\" class=\"dataframe\">\n",
       "  <thead>\n",
       "    <tr style=\"text-align: right;\">\n",
       "      <th></th>\n",
       "      <th>Technical_Knowhow</th>\n",
       "      <th>Personal_Traits</th>\n",
       "      <th>Social_Characteristics</th>\n",
       "      <th>Motivating_Factors</th>\n",
       "      <th>cluster</th>\n",
       "    </tr>\n",
       "  </thead>\n",
       "  <tbody>\n",
       "    <tr>\n",
       "      <th>0</th>\n",
       "      <td>8</td>\n",
       "      <td>6</td>\n",
       "      <td>6</td>\n",
       "      <td>19</td>\n",
       "      <td>1</td>\n",
       "    </tr>\n",
       "    <tr>\n",
       "      <th>1</th>\n",
       "      <td>8</td>\n",
       "      <td>5</td>\n",
       "      <td>17</td>\n",
       "      <td>11</td>\n",
       "      <td>1</td>\n",
       "    </tr>\n",
       "    <tr>\n",
       "      <th>2</th>\n",
       "      <td>3</td>\n",
       "      <td>8</td>\n",
       "      <td>0</td>\n",
       "      <td>8</td>\n",
       "      <td>1</td>\n",
       "    </tr>\n",
       "    <tr>\n",
       "      <th>3</th>\n",
       "      <td>0</td>\n",
       "      <td>22</td>\n",
       "      <td>7</td>\n",
       "      <td>15</td>\n",
       "      <td>0</td>\n",
       "    </tr>\n",
       "    <tr>\n",
       "      <th>4</th>\n",
       "      <td>12</td>\n",
       "      <td>23</td>\n",
       "      <td>6</td>\n",
       "      <td>7</td>\n",
       "      <td>0</td>\n",
       "    </tr>\n",
       "  </tbody>\n",
       "</table>\n",
       "</div>"
      ],
      "text/plain": [
       "   Technical_Knowhow  Personal_Traits  Social_Characteristics  \\\n",
       "0                  8                6                       6   \n",
       "1                  8                5                      17   \n",
       "2                  3                8                       0   \n",
       "3                  0               22                       7   \n",
       "4                 12               23                       6   \n",
       "\n",
       "   Motivating_Factors  cluster  \n",
       "0                  19        1  \n",
       "1                  11        1  \n",
       "2                   8        1  \n",
       "3                  15        0  \n",
       "4                   7        0  "
      ]
     },
     "execution_count": 543,
     "metadata": {},
     "output_type": "execute_result"
    }
   ],
   "source": [
    "df.head()"
   ]
  },
  {
   "cell_type": "code",
   "execution_count": 544,
   "metadata": {},
   "outputs": [],
   "source": [
    "scaler=StandardScaler()\n",
    "scaled=scaler.fit_transform(df)"
   ]
  },
  {
   "cell_type": "code",
   "execution_count": 545,
   "metadata": {},
   "outputs": [
    {
     "data": {
      "text/plain": [
       "array([[ 0.52727555, -0.7781764 , -0.56917546,  1.64806313,  0.96946594],\n",
       "       [ 0.52727555, -0.92350769,  1.50123791,  0.24828555,  0.96946594],\n",
       "       [-0.82367385, -0.48751382, -1.69849183, -0.27663104,  0.96946594],\n",
       "       ...,\n",
       "       [-1.3640536 , -1.65016415, -0.56917546,  0.94817434,  0.96946594],\n",
       "       [-0.01310421, -1.21417028, -1.69849183, -0.10165885,  0.96946594],\n",
       "       [-0.55348397,  0.52980522,  0.37192153,  0.59822994, -1.03149575]])"
      ]
     },
     "execution_count": 545,
     "metadata": {},
     "output_type": "execute_result"
    }
   ],
   "source": [
    "scaled"
   ]
  },
  {
   "cell_type": "code",
   "execution_count": 546,
   "metadata": {},
   "outputs": [],
   "source": [
    "from sklearn.decomposition import PCA"
   ]
  },
  {
   "cell_type": "code",
   "execution_count": 547,
   "metadata": {},
   "outputs": [],
   "source": [
    "pca=PCA(n_components=2)\n",
    "reduced=pca.fit_transform(scaled)"
   ]
  },
  {
   "cell_type": "code",
   "execution_count": 548,
   "metadata": {},
   "outputs": [
    {
     "data": {
      "text/plain": [
       "array([[-1.34627188,  1.49002029],\n",
       "       [-1.29307256, -0.77585235],\n",
       "       [-1.08016075,  0.66059435],\n",
       "       ...,\n",
       "       [-1.96628547,  0.28568577],\n",
       "       [-1.58179685,  1.07811017],\n",
       "       [ 1.05469011, -0.10480917]])"
      ]
     },
     "execution_count": 548,
     "metadata": {},
     "output_type": "execute_result"
    }
   ],
   "source": [
    "reduced"
   ]
  },
  {
   "cell_type": "code",
   "execution_count": 520,
   "metadata": {},
   "outputs": [],
   "source": [
    "#datas=pd.DataFrame(reduced)"
   ]
  },
  {
   "cell_type": "code",
   "execution_count": 521,
   "metadata": {},
   "outputs": [],
   "source": [
    "#datas"
   ]
  },
  {
   "cell_type": "code",
   "execution_count": 549,
   "metadata": {},
   "outputs": [],
   "source": [
    "f1=reduced[:,0]\n",
    "f2=reduced[:,1]"
   ]
  },
  {
   "cell_type": "code",
   "execution_count": 550,
   "metadata": {},
   "outputs": [
    {
     "data": {
      "text/plain": [
       "(2000,)"
      ]
     },
     "execution_count": 550,
     "metadata": {},
     "output_type": "execute_result"
    }
   ],
   "source": [
    "f2.shape"
   ]
  },
  {
   "cell_type": "code",
   "execution_count": 551,
   "metadata": {},
   "outputs": [
    {
     "data": {
      "text/plain": [
       "array([0.37497863, 0.20565414])"
      ]
     },
     "execution_count": 551,
     "metadata": {},
     "output_type": "execute_result"
    }
   ],
   "source": [
    "pca.explained_variance_ratio_"
   ]
  },
  {
   "cell_type": "code",
   "execution_count": 552,
   "metadata": {},
   "outputs": [
    {
     "data": {
      "image/png": "[encoded data removed]",
      "text/plain": [
       "<Figure size 432x288 with 1 Axes>"
      ]
     },
     "metadata": {
      "needs_background": "light"
     },
     "output_type": "display_data"
    }
   ],
   "source": [
    "plt.scatter(f1,f2)\n",
    "plt.show()"
   ]
  },
  {
   "cell_type": "code",
   "execution_count": null,
   "metadata": {},
   "outputs": [],
   "source": []
  }
 ],
 "metadata": {
  "kernelspec": {
   "display_name": "Python 3",
   "language": "python",
   "name": "python3"
  },
  "language_info": {
   "codemirror_mode": {
    "name": "ipython",
    "version": 3
   },
   "file_extension": ".py",
   "mimetype": "text/x-python",
   "name": "python",
   "nbconvert_exporter": "python",
   "pygments_lexer": "ipython3",
   "version": "3.7.6"
  }
 },
 "nbformat": 4,
 "nbformat_minor": 4
}
